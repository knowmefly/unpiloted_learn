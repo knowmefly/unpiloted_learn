{
 "cells": [
  {
   "cell_type": "markdown",
   "metadata": {},
   "source": [
    "# Self-Driving Car Engineer Nanodegree\n",
    "\n",
    "## Deep Learning\n",
    "\n",
    "## Project: Build a Traffic Sign Recognition Classifier\n",
    "\n",
    "In this notebook, a template is provided for you to implement your functionality in stages, which is required to successfully complete this project. If additional code is required that cannot be included in the notebook, be sure that the Python code is successfully imported and included in your submission if necessary. \n",
    "\n",
    "> **Note**: Once you have completed all of the code implementations, you need to finalize your work by exporting the iPython Notebook as an HTML document. Before exporting the notebook to html, all of the code cells need to have been run so that reviewers can see the final implementation and output. You can then export the notebook by using the menu above and navigating to  \\n\",\n",
    "    \"**File -> Download as -> HTML (.html)**. Include the finished document along with this notebook as your submission. \n",
    "\n",
    "In addition to implementing code, there is a writeup to complete. The writeup should be completed in a separate file, which can be either a markdown file or a pdf document. There is a [write up template](https://github.com/udacity/CarND-Traffic-Sign-Classifier-Project/blob/master/writeup_template.md) that can be used to guide the writing process. Completing the code template and writeup template will cover all of the [rubric points](https://review.udacity.com/#!/rubrics/481/view) for this project.\n",
    "\n",
    "The [rubric](https://review.udacity.com/#!/rubrics/481/view) contains \"Stand Out Suggestions\" for enhancing the project beyond the minimum requirements. The stand out suggestions are optional. If you decide to pursue the \"stand out suggestions\", you can include the code in this Ipython notebook and also discuss the results in the writeup file.\n",
    "\n",
    "\n",
    ">**Note:** Code and Markdown cells can be executed using the **Shift + Enter** keyboard shortcut. In addition, Markdown cells can be edited by typically double-clicking the cell to enter edit mode."
   ]
  },
  {
   "cell_type": "markdown",
   "metadata": {},
   "source": [
    "---\n",
    "## Step 0: Load The Data"
   ]
  },
  {
   "cell_type": "code",
   "execution_count": 1,
   "metadata": {},
   "outputs": [
    {
     "name": "stdout",
     "output_type": "stream",
     "text": [
      "<class 'numpy.ndarray'>\n"
     ]
    }
   ],
   "source": [
    "# Load pickled data\n",
    "import pickle\n",
    "from zipfile import ZipFile\n",
    "\n",
    "# TODO: Fill this in based on where you saved the training and testing data\n",
    "file_name = r'traffic-signs-data.zip'\n",
    "with ZipFile(file_name) as zipf:\n",
    "    zipf.extractall()\n",
    "    \n",
    "training_file = 'train.p'\n",
    "validation_file='valid.p'\n",
    "testing_file = 'test.p'\n",
    "\n",
    "with open(training_file, mode='rb') as f:\n",
    "    train = pickle.load(f)\n",
    "with open(validation_file, mode='rb') as f:\n",
    "    valid = pickle.load(f)\n",
    "with open(testing_file, mode='rb') as f:\n",
    "    test = pickle.load(f)\n",
    "    \n",
    "X_train, y_train = train['features'], train['labels']\n",
    "X_valid, y_valid = valid['features'], valid['labels']\n",
    "X_test, y_test = test['features'], test['labels']\n",
    "print(type(X_train))"
   ]
  },
  {
   "cell_type": "markdown",
   "metadata": {},
   "source": [
    "---\n",
    "\n",
    "## Step 1: Dataset Summary & Exploration\n",
    "\n",
    "The pickled data is a dictionary with 4 key/value pairs:\n",
    "\n",
    "- `'features'` is a 4D array containing raw pixel data of the traffic sign images, (num examples, width, height, channels).\n",
    "- `'labels'` is a 1D array containing the label/class id of the traffic sign. The file `signnames.csv` contains id -> name mappings for each id.\n",
    "- `'sizes'` is a list containing tuples, (width, height) representing the original width and height the image.\n",
    "- `'coords'` is a list containing tuples, (x1, y1, x2, y2) representing coordinates of a bounding box around the sign in the image. **THESE COORDINATES ASSUME THE ORIGINAL IMAGE. THE PICKLED DATA CONTAINS RESIZED VERSIONS (32 by 32) OF THESE IMAGES**\n",
    "\n",
    "Complete the basic data summary below. Use python, numpy and/or pandas methods to calculate the data summary rather than hard coding the results. For example, the [pandas shape method](http://pandas.pydata.org/pandas-docs/stable/generated/pandas.DataFrame.shape.html) might be useful for calculating some of the summary results. "
   ]
  },
  {
   "cell_type": "markdown",
   "metadata": {},
   "source": [
    "### Provide a Basic Summary of the Data Set Using Python, Numpy and/or Pandas"
   ]
  },
  {
   "cell_type": "code",
   "execution_count": 2,
   "metadata": {},
   "outputs": [
    {
     "name": "stdout",
     "output_type": "stream",
     "text": [
      "<class 'numpy.ndarray'>\n",
      "Number of training examples = 34799\n",
      "Number of validation examples = 4410\n",
      "Number of testing examples = 12630\n",
      "Image data shape = (32, 32, 3)\n",
      "Number of classes = 43\n"
     ]
    }
   ],
   "source": [
    "### Replace each question mark with the appropriate value. \n",
    "### Use python, pandas or numpy methods rather than hard coding the results\n",
    "from collections import Counter\n",
    "\n",
    "# TODO: Number of training examples\n",
    "print(type(X_train))\n",
    "n_train = len(X_train)\n",
    "\n",
    "# TODO: Number of validation examples\n",
    "n_validation = len(X_valid)\n",
    "\n",
    "# TODO: Number of testing examples.\n",
    "n_test = len(X_test)\n",
    "\n",
    "# TODO: What's the shape of an traffic sign image?\n",
    "image_shape = X_train[0].shape\n",
    "\n",
    "# TODO: How many unique classes/labels there are in the dataset.\n",
    "n_classes = len(Counter(y_test))\n",
    "\n",
    "print(\"Number of training examples =\", n_train)\n",
    "print(\"Number of validation examples =\", n_validation)\n",
    "print(\"Number of testing examples =\", n_test)\n",
    "print(\"Image data shape =\", image_shape)\n",
    "print(\"Number of classes =\", n_classes)"
   ]
  },
  {
   "cell_type": "markdown",
   "metadata": {},
   "source": [
    "### Include an exploratory visualization of the dataset"
   ]
  },
  {
   "cell_type": "markdown",
   "metadata": {},
   "source": [
    "Visualize the German Traffic Signs Dataset using the pickled file(s). This is open ended, suggestions include: plotting traffic sign images, plotting the count of each sign, etc. \n",
    "\n",
    "The [Matplotlib](http://matplotlib.org/) [examples](http://matplotlib.org/examples/index.html) and [gallery](http://matplotlib.org/gallery.html) pages are a great resource for doing visualizations in Python.\n",
    "\n",
    "**NOTE:** It's recommended you start with something simple first. If you wish to do more, come back to it after you've completed the rest of the sections. It can be interesting to look at the distribution of classes in the training, validation and test set. Is the distribution the same? Are there more examples of some classes than others?"
   ]
  },
  {
   "cell_type": "code",
   "execution_count": 3,
   "metadata": {
    "scrolled": false
   },
   "outputs": [],
   "source": [
    "### Data exploration visualization code goes here.\n",
    "### Feel free to use as many code cells as needed.\n",
    "import matplotlib.pyplot as plt\n",
    "import random\n",
    "import csv\n",
    "\n",
    "# Visualizations will be shown in the notebook.\n",
    "%matplotlib inline\n",
    "\n",
    "transfer = {}\n",
    "with open(r'signnames.csv','r') as f:\n",
    "    trans = csv.reader(f)\n",
    "    for row in trans:\n",
    "        transfer[row[0]] = row[1]"
   ]
  },
  {
   "cell_type": "code",
   "execution_count": 4,
   "metadata": {
    "scrolled": true
   },
   "outputs": [
    {
     "name": "stdout",
     "output_type": "stream",
     "text": [
      "5\n",
      "Speed limit (80km/h)\n"
     ]
    },
    {
     "data": {
      "text/plain": [
       "<matplotlib.image.AxesImage at 0x7f7204b03a20>"
      ]
     },
     "execution_count": 4,
     "metadata": {},
     "output_type": "execute_result"
    },
    {
     "data": {
      "image/png": "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\n",
      "text/plain": [
       "<Figure size 432x288 with 1 Axes>"
      ]
     },
     "metadata": {},
     "output_type": "display_data"
    }
   ],
   "source": [
    "index = random.randint(0,len(X_train))\n",
    "image = X_train[index]\n",
    "row = y_train[index]\n",
    "print(row)\n",
    "label = transfer[str(row)]\n",
    "print(label)\n",
    "plt.figure()\n",
    "\n",
    "\n",
    "plt.imshow(image)"
   ]
  },
  {
   "cell_type": "code",
   "execution_count": 5,
   "metadata": {
    "scrolled": true
   },
   "outputs": [],
   "source": [
    "#sort\n",
    "def sort_dict(di):\n",
    "    return dict([(k,di[k]) for k in sorted(di.keys())])"
   ]
  },
  {
   "cell_type": "code",
   "execution_count": 6,
   "metadata": {},
   "outputs": [
    {
     "name": "stdout",
     "output_type": "stream",
     "text": [
      "{0: 180, 1: 1980, 2: 2010, 3: 1260, 4: 1770, 5: 1650, 6: 360, 7: 1290, 8: 1260, 9: 1320, 10: 1800, 11: 1170, 12: 1890, 13: 1920, 14: 690, 15: 540, 16: 360, 17: 990, 18: 1080, 19: 180, 20: 300, 21: 270, 22: 330, 23: 450, 24: 240, 25: 1350, 26: 540, 27: 210, 28: 480, 29: 240, 30: 390, 31: 690, 32: 210, 33: 599, 34: 360, 35: 1080, 36: 330, 37: 180, 38: 1860, 39: 270, 40: 300, 41: 210, 42: 210}\n"
     ]
    }
   ],
   "source": [
    "count_train = Counter(y_train)\n",
    "count_valid = Counter(y_valid)\n",
    "count_test = Counter(y_test)\n",
    "\n",
    "count_train = sort_dict(count_train)\n",
    "count_valid = sort_dict(count_valid)\n",
    "count_test = sort_dict(count_test)\n",
    "\n",
    "print(count_train)\n",
    "\n",
    "\n",
    "#plt.plot(count_train)"
   ]
  },
  {
   "cell_type": "markdown",
   "metadata": {},
   "source": [
    "# 其实查看数据分布可以用更简洁的代码\n",
    "- def get_freq(labels):\n",
    "-    count_labels = Counter(labels)\n",
    "-    count_labels = dict([(k,count_labels[k]) for k in sorted(count_labels.keys())])\n",
    "-    num_labels = np.array(list(count_labels.values()))\n",
    "-    freq_labels = num_labels/num_labels.sum().astype('float')\n",
    "-    return freq_labels    "
   ]
  },
  {
   "cell_type": "code",
   "execution_count": 7,
   "metadata": {},
   "outputs": [
    {
     "name": "stdout",
     "output_type": "stream",
     "text": [
      "<class 'dict'>\n"
     ]
    }
   ],
   "source": [
    "import numpy as np\n",
    "\n",
    "train_x = np.array([n for n in count_train.keys()])\n",
    "train_y = count_train.values()\n",
    "train_y = np.array([float(single) for single in train_y])\n",
    "train_y = train_y/sum(train_y)\n",
    "\n",
    "\n",
    "valid_x = np.array([n for n in count_valid.keys()])\n",
    "valid_y = count_valid.values()\n",
    "valid_y = np.array([float(single) for single in valid_y])\n",
    "valid_y = valid_y/sum(valid_y)\n",
    "\n",
    "test_x = np.array([n for n in count_test.keys()])\n",
    "test_y = count_test.values()\n",
    "test_y = np.array([float(single) for single in test_y])\n",
    "test_y = test_y/sum(test_y)\n",
    "\n",
    "print(type(train))"
   ]
  },
  {
   "cell_type": "code",
   "execution_count": 8,
   "metadata": {},
   "outputs": [
    {
     "data": {
      "text/plain": [
       "<matplotlib.legend.Legend at 0x7f7204a727b8>"
      ]
     },
     "execution_count": 8,
     "metadata": {},
     "output_type": "execute_result"
    },
    {
     "data": {
      "image/png": "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\n",
      "text/plain": [
       "<Figure size 1152x432 with 1 Axes>"
      ]
     },
     "metadata": {},
     "output_type": "display_data"
    }
   ],
   "source": [
    "n_groups = 43\n",
    "plt.figure(figsize=(16,6))\n",
    "index = np.arange(n_groups)\n",
    "\n",
    "total_width, n = 0.8, 3\n",
    "width = total_width/n\n",
    "index = index - total_width/2\n",
    "x_ticks_ = list(transfer.values())[1:]\n",
    "\n",
    "\n",
    "plt.bar(index,train_y,width=width,label='Train dataset')\n",
    "plt.bar(index+width,valid_y,width=width,label='Valid dataset')\n",
    "plt.bar(index+2*width,test_y,width = width,label='Test dataset')\n",
    "plt.xlabel(\"Sign classes\",fontsize=20)\n",
    "plt.ylabel(\"Frequence\",fontsize=20)\n",
    "plt.xticks(index,x_ticks_,rotation=90)\n",
    "plt.title(\"Frequence of Sign Classes of Three Group Data Sets\",fontsize=20)\n",
    "plt.legend()"
   ]
  },
  {
   "cell_type": "markdown",
   "metadata": {},
   "source": [
    "----\n",
    "\n",
    "## Step 2: Design and Test a Model Architecture\n",
    "\n",
    "Design and implement a deep learning model that learns to recognize traffic signs. Train and test your model on the [German Traffic Sign Dataset](http://benchmark.ini.rub.de/?section=gtsrb&subsection=dataset).\n",
    "\n",
    "The LeNet-5 implementation shown in the [classroom](https://classroom.udacity.com/nanodegrees/nd013/parts/fbf77062-5703-404e-b60c-95b78b2f3f9e/modules/6df7ae49-c61c-4bb2-a23e-6527e69209ec/lessons/601ae704-1035-4287-8b11-e2c2716217ad/concepts/d4aca031-508f-4e0b-b493-e7b706120f81) at the end of the CNN lesson is a solid starting point. You'll have to change the number of classes and possibly the preprocessing, but aside from that it's plug and play! \n",
    "\n",
    "With the LeNet-5 solution from the lecture, you should expect a validation set accuracy of about 0.89. To meet specifications, the validation set accuracy will need to be at least 0.93. It is possible to get an even higher accuracy, but 0.93 is the minimum for a successful project submission. \n",
    "\n",
    "There are various aspects to consider when thinking about this problem:\n",
    "\n",
    "- Neural network architecture (is the network over or underfitting?)\n",
    "- Play around preprocessing techniques (normalization, rgb to grayscale, etc)\n",
    "- Number of examples per label (some have more than others).\n",
    "- Generate fake data.\n",
    "\n",
    "Here is an example of a [published baseline model on this problem](http://yann.lecun.com/exdb/publis/pdf/sermanet-ijcnn-11.pdf). It's not required to be familiar with the approach used in the paper but, it's good practice to try to read papers like these."
   ]
  },
  {
   "cell_type": "markdown",
   "metadata": {},
   "source": [
    "### Pre-process the Data Set (normalization, grayscale, etc.)"
   ]
  },
  {
   "cell_type": "markdown",
   "metadata": {},
   "source": [
    "Minimally, the image data should be normalized so that the data has mean zero and equal variance. For image data, `(pixel - 128)/ 128` is a quick way to approximately normalize the data and can be used in this project. \n",
    "\n",
    "Other pre-processing steps are optional. You can try different techniques to see if it improves performance. \n",
    "\n",
    "Use the code cell (or multiple code cells, if necessary) to implement the first step of your project."
   ]
  },
  {
   "cell_type": "code",
   "execution_count": 9,
   "metadata": {},
   "outputs": [],
   "source": [
    "### Preprocess the data here. It is required to normalize the data. Other preprocessing steps could include \n",
    "### converting to grayscale, etc.\n",
    "### Feel free to use as many code cells as needed.\n",
    "\n",
    "import cv2\n",
    "\n",
    "# #grayScale\n",
    "# def gray_imgs(imgs):\n",
    "#     output = []\n",
    "#     for img in imgs:\n",
    "#         output.append(cv2.cvtColor(img,cv2.COLOR_RGB2GRAY))\n",
    "#     return output\n",
    "\n",
    "#normalization\n",
    "def normal_imgs(imgs):\n",
    "    output = []\n",
    "    for img in imgs:\n",
    "        output.append((img.astype(np.float32)-128)/128)\n",
    "    return output"
   ]
  },
  {
   "cell_type": "code",
   "execution_count": 10,
   "metadata": {},
   "outputs": [],
   "source": [
    "X_train = normal_imgs(X_train)\n",
    "X_valid = normal_imgs(X_valid)\n",
    "X_test = normal_imgs(X_test)"
   ]
  },
  {
   "cell_type": "code",
   "execution_count": 11,
   "metadata": {
    "scrolled": true
   },
   "outputs": [
    {
     "name": "stdout",
     "output_type": "stream",
     "text": [
      "(32, 32, 3)\n"
     ]
    }
   ],
   "source": [
    "print(X_train[0].shape)"
   ]
  },
  {
   "cell_type": "code",
   "execution_count": 12,
   "metadata": {},
   "outputs": [],
   "source": [
    "np.set_printoptions(threshold=1000)"
   ]
  },
  {
   "cell_type": "code",
   "execution_count": 13,
   "metadata": {
    "scrolled": false
   },
   "outputs": [
    {
     "name": "stdout",
     "output_type": "stream",
     "text": [
      "[[[-0.78125   -0.8046875 -0.8125   ]\n",
      "  [-0.7890625 -0.8125    -0.8203125]\n",
      "  [-0.7890625 -0.8125    -0.828125 ]\n",
      "  ...\n",
      "  [-0.75      -0.78125   -0.8125   ]\n",
      "  [-0.7578125 -0.7890625 -0.8046875]\n",
      "  [-0.7578125 -0.7890625 -0.796875 ]]\n",
      "\n",
      " [[-0.7734375 -0.796875  -0.8046875]\n",
      "  [-0.7890625 -0.8046875 -0.8203125]\n",
      "  [-0.7890625 -0.8046875 -0.8203125]\n",
      "  ...\n",
      "  [-0.75      -0.78125   -0.8125   ]\n",
      "  [-0.7578125 -0.7890625 -0.8125   ]\n",
      "  [-0.765625  -0.7890625 -0.8046875]]\n",
      "\n",
      " [[-0.78125   -0.796875  -0.796875 ]\n",
      "  [-0.7890625 -0.8046875 -0.8203125]\n",
      "  [-0.796875  -0.8046875 -0.8203125]\n",
      "  ...\n",
      "  [-0.75      -0.78125   -0.8125   ]\n",
      "  [-0.7578125 -0.7890625 -0.8125   ]\n",
      "  [-0.765625  -0.7890625 -0.8046875]]\n",
      "\n",
      " ...\n",
      "\n",
      " [[-0.7890625 -0.8125    -0.8203125]\n",
      "  [-0.78125   -0.8046875 -0.8125   ]\n",
      "  [-0.765625  -0.8046875 -0.8125   ]\n",
      "  ...\n",
      "  [-0.7890625 -0.8125    -0.8203125]\n",
      "  [-0.78125   -0.8125    -0.828125 ]\n",
      "  [-0.7734375 -0.8046875 -0.828125 ]]\n",
      "\n",
      " [[-0.78125   -0.8203125 -0.8203125]\n",
      "  [-0.7734375 -0.8125    -0.8125   ]\n",
      "  [-0.7578125 -0.8046875 -0.8125   ]\n",
      "  ...\n",
      "  [-0.7890625 -0.8125    -0.8203125]\n",
      "  [-0.78125   -0.8125    -0.828125 ]\n",
      "  [-0.78125   -0.8125    -0.8359375]]\n",
      "\n",
      " [[-0.7734375 -0.8203125 -0.8203125]\n",
      "  [-0.765625  -0.8125    -0.8125   ]\n",
      "  [-0.75      -0.8125    -0.8203125]\n",
      "  ...\n",
      "  [-0.7890625 -0.8125    -0.828125 ]\n",
      "  [-0.7890625 -0.8203125 -0.8359375]\n",
      "  [-0.796875  -0.828125  -0.84375  ]]]\n"
     ]
    }
   ],
   "source": [
    "print(X_train[0])"
   ]
  },
  {
   "cell_type": "markdown",
   "metadata": {},
   "source": [
    "### Model Architecture"
   ]
  },
  {
   "cell_type": "code",
   "execution_count": 14,
   "metadata": {},
   "outputs": [
    {
     "name": "stderr",
     "output_type": "stream",
     "text": [
      "/usr/lib/python3.5/importlib/_bootstrap.py:222: RuntimeWarning: numpy.dtype size changed, may indicate binary incompatibility. Expected 96, got 88\n",
      "  return f(*args, **kwds)\n",
      "/usr/lib/python3.5/importlib/_bootstrap.py:222: RuntimeWarning: numpy.dtype size changed, may indicate binary incompatibility. Expected 96, got 88\n",
      "  return f(*args, **kwds)\n",
      "/usr/lib/python3.5/importlib/_bootstrap.py:222: RuntimeWarning: numpy.dtype size changed, may indicate binary incompatibility. Expected 96, got 88\n",
      "  return f(*args, **kwds)\n",
      "/usr/lib/python3.5/importlib/_bootstrap.py:222: RuntimeWarning: numpy.dtype size changed, may indicate binary incompatibility. Expected 96, got 88\n",
      "  return f(*args, **kwds)\n",
      "/usr/lib/python3.5/importlib/_bootstrap.py:222: RuntimeWarning: numpy.dtype size changed, may indicate binary incompatibility. Expected 96, got 88\n",
      "  return f(*args, **kwds)\n"
     ]
    }
   ],
   "source": [
    "import tensorflow as tf\n",
    "from tensorflow.contrib.layers import flatten"
   ]
  },
  {
   "cell_type": "code",
   "execution_count": 15,
   "metadata": {},
   "outputs": [],
   "source": [
    "### Define your architecture here.\n",
    "### Feel free to use as many code cells as needed.\n",
    "def train_model(X,keep):\n",
    "    mu = 0\n",
    "    sigma = 0.1\n",
    "    \n",
    "    #(32,32,3) to (28,28,18)\n",
    "    conv1_w = tf.Variable(tf.truncated_normal(shape=(5,5,3,18),mean=mu, stddev=sigma))\n",
    "    conv1_b = tf.Variable(tf.zeros(18))\n",
    "    conv1 = tf.nn.conv2d(X,conv1_w,strides=[1,1,1,1],padding='VALID') + conv1_b\n",
    "    \n",
    "    conv1 = tf.nn.relu(conv1)\n",
    "    #(28,28,18) to (14,14,18)\n",
    "    conv1 = tf.nn.max_pool(conv1,ksize = [1,2,2,1],strides=[1,2,2,1],padding='VALID')\n",
    "    \n",
    "    #(14,14,18) to (10,10,54)\n",
    "    conv2_w = tf.Variable(tf.truncated_normal(shape=(5,5,18,54),mean=mu,stddev=sigma))\n",
    "    conv2_b = tf.Variable(tf.zeros(54))\n",
    "    conv2 = tf.nn.conv2d(conv1,conv2_w,strides=[1,1,1,1],padding='VALID') + conv2_b\n",
    "    conv2 = tf.nn.relu(conv2)\n",
    "    \n",
    "    #(10,10,54) to (5,5,54)\n",
    "    conv2 = tf.nn.max_pool(conv2,ksize=[1,2,2,1],strides=[1,2,2,1], padding='VALID')\n",
    "    \n",
    "    #5*5*54=1350\n",
    "    fc0 = flatten(conv2)\n",
    "    \n",
    "    #1350 to 800\n",
    "    fc1_w = tf.Variable(tf.truncated_normal(shape=(1350,800), mean=mu, stddev=sigma))\n",
    "    fc1_b = tf.Variable(tf.zeros(800))\n",
    "    fc1 = tf.matmul(fc0,fc1_w) + fc1_b\n",
    "    fc1 = tf.nn.relu(fc1)\n",
    "    fc1 = tf.nn.dropout(fc1,keep)\n",
    "    \n",
    "    #800 to 300\n",
    "    fc2_w = tf.Variable(tf.truncated_normal(shape=(800,300), mean=mu, stddev=sigma))\n",
    "    fc2_b = tf.Variable(tf.zeros(300))\n",
    "    fc2 = tf.matmul(fc1,fc2_w) + fc2_b\n",
    "    fc2 = tf.nn.relu(fc2)\n",
    "    fc2 = tf.nn.dropout(fc2,keep)\n",
    "    \n",
    "    #300 to 43\n",
    "    fc3_w = tf.Variable(tf.truncated_normal(shape=(300,43), mean=mu, stddev=sigma))\n",
    "    fc3_b = tf.Variable(tf.zeros(43))\n",
    "    fc3 = tf.matmul(fc2,fc3_w) + fc3_b\n",
    "    \n",
    "    return fc3    "
   ]
  },
  {
   "cell_type": "markdown",
   "metadata": {},
   "source": [
    "### Train, Validate and Test the Model"
   ]
  },
  {
   "cell_type": "markdown",
   "metadata": {},
   "source": [
    "A validation set can be used to assess how well the model is performing. A low accuracy on the training and validation\n",
    "sets imply underfitting. A high accuracy on the training set but low accuracy on the validation set implies overfitting."
   ]
  },
  {
   "cell_type": "code",
   "execution_count": 16,
   "metadata": {},
   "outputs": [],
   "source": [
    "### Train your model here.\n",
    "### Calculate and report the accuracy on the training and validation set.\n",
    "### Once a final model architecture is selected, \n",
    "### the accuracy on the test set should be calculated and reported as well.\n",
    "### Feel free to use as many code cells as needed."
   ]
  },
  {
   "cell_type": "markdown",
   "metadata": {},
   "source": [
    "### Features And Labels"
   ]
  },
  {
   "cell_type": "code",
   "execution_count": 17,
   "metadata": {},
   "outputs": [],
   "source": [
    "x = tf.placeholder(tf.float32,(None,32,32,3))\n",
    "y = tf.placeholder(tf.int32,(None))\n",
    "one_hot_y = tf.one_hot(y,43)\n",
    "keep_prob = tf.placeholder(tf.float32)"
   ]
  },
  {
   "cell_type": "markdown",
   "metadata": {},
   "source": [
    "### Training Pipeline"
   ]
  },
  {
   "cell_type": "code",
   "execution_count": 18,
   "metadata": {
    "scrolled": false
   },
   "outputs": [
    {
     "name": "stdout",
     "output_type": "stream",
     "text": [
      "WARNING:tensorflow:From <ipython-input-18-09550f7daf9e>:4: softmax_cross_entropy_with_logits (from tensorflow.python.ops.nn_ops) is deprecated and will be removed in a future version.\n",
      "Instructions for updating:\n",
      "\n",
      "Future major versions of TensorFlow will allow gradients to flow\n",
      "into the labels input on backprop by default.\n",
      "\n",
      "See `tf.nn.softmax_cross_entropy_with_logits_v2`.\n",
      "\n"
     ]
    }
   ],
   "source": [
    "rate = 0.001\n",
    "\n",
    "logits = train_model(x,keep_prob)\n",
    "cross_entropy = tf.nn.softmax_cross_entropy_with_logits(labels=one_hot_y,logits=logits)\n",
    "loss_operation = tf.reduce_mean(cross_entropy)\n",
    "optimizer = tf.train.AdamOptimizer(learning_rate=rate)\n",
    "training_operation = optimizer.minimize(loss_operation)"
   ]
  },
  {
   "cell_type": "markdown",
   "metadata": {},
   "source": [
    "### Model Evaluation"
   ]
  },
  {
   "cell_type": "code",
   "execution_count": 19,
   "metadata": {},
   "outputs": [],
   "source": [
    "epochs = 5\n",
    "batch_size = 128"
   ]
  },
  {
   "cell_type": "code",
   "execution_count": 20,
   "metadata": {},
   "outputs": [],
   "source": [
    "correct_prediction = tf.equal(tf.argmax(logits,1),tf.argmax(one_hot_y,1))\n",
    "accuracy_operation = tf.reduce_mean(tf.cast(correct_prediction,tf.float32))\n",
    "saver = tf.train.Saver()\n",
    "\n",
    "def evaluate(X_data,y_data):\n",
    "    num_examples = len(X_data)\n",
    "    total_accuracy = 0\n",
    "    sess = tf.get_default_session()\n",
    "    for offset in range(0,num_examples,batch_size):\n",
    "        batch_x,batch_y = X_data[offset:offset+batch_size], y_data[offset:offset+batch_size]\n",
    "        accuracy = sess.run(accuracy_operation,feed_dict={x:batch_x, y:batch_y, keep_prob:1})\n",
    "        total_accuracy += (accuracy*len(batch_x))\n",
    "    return total_accuracy/num_examples"
   ]
  },
  {
   "cell_type": "markdown",
   "metadata": {},
   "source": [
    "### Train model"
   ]
  },
  {
   "cell_type": "code",
   "execution_count": 25,
   "metadata": {},
   "outputs": [],
   "source": [
    "from sklearn.utils import shuffle"
   ]
  },
  {
   "cell_type": "code",
   "execution_count": 26,
   "metadata": {
    "scrolled": false
   },
   "outputs": [
    {
     "name": "stdout",
     "output_type": "stream",
     "text": [
      "Training...\n",
      "\n",
      "EPOCH1...\n",
      "Validation Accuracy = 0.887\n",
      "EPOCH2...\n",
      "Validation Accuracy = 0.912\n",
      "EPOCH3...\n",
      "Validation Accuracy = 0.939\n",
      "EPOCH4...\n",
      "Validation Accuracy = 0.941\n",
      "EPOCH5...\n",
      "Validation Accuracy = 0.956\n",
      "Model saved\n"
     ]
    }
   ],
   "source": [
    "with tf.Session() as sess:\n",
    "    sess.run(tf.global_variables_initializer())\n",
    "    num_examples = len(X_train)\n",
    "    \n",
    "    print('Training...')\n",
    "    print()\n",
    "    for i in range(epochs):\n",
    "        X_train,y_train = shuffle(X_train,y_train)\n",
    "        for offset in range(0,num_examples,batch_size):\n",
    "            end = offset+batch_size\n",
    "            batch_x, batch_y = X_train[offset:end],y_train[offset:end]\n",
    "            sess.run(training_operation,feed_dict={x:batch_x,y:batch_y, keep_prob:0.7})\n",
    "            \n",
    "        validation_accuracy = evaluate(X_valid,y_valid)\n",
    "        print(\"EPOCH{}...\".format(i+1))\n",
    "        print(\"Validation Accuracy = {:0.3f}\".format(validation_accuracy))\n",
    "    saver.save(sess,'savemodel/save_sess')\n",
    "    print('Model saved')"
   ]
  },
  {
   "cell_type": "markdown",
   "metadata": {},
   "source": [
    "### Train performance"
   ]
  },
  {
   "cell_type": "code",
   "execution_count": 22,
   "metadata": {},
   "outputs": [
    {
     "name": "stdout",
     "output_type": "stream",
     "text": [
      "INFO:tensorflow:Restoring parameters from ./savemodel/save_sess\n",
      "Train Accuracy = 0.998\n"
     ]
    }
   ],
   "source": [
    "with tf.Session() as sess:\n",
    "    saver.restore(sess, tf.train.latest_checkpoint('./savemodel/'))\n",
    "    \n",
    "    train_accuracy = evaluate(X_train, y_train)\n",
    "    print(\"Train Accuracy = {:.3f}\".format(train_accuracy))"
   ]
  },
  {
   "cell_type": "markdown",
   "metadata": {},
   "source": [
    "### Test performance"
   ]
  },
  {
   "cell_type": "code",
   "execution_count": 23,
   "metadata": {},
   "outputs": [
    {
     "name": "stderr",
     "output_type": "stream",
     "text": [
      "Clipping input data to the valid range for imshow with RGB data ([0..1] for floats or [0..255] for integers).\n"
     ]
    },
    {
     "name": "stdout",
     "output_type": "stream",
     "text": [
      "test size 12630\n",
      "12630\n",
      "(32, 32, 3)\n"
     ]
    },
    {
     "data": {
      "text/plain": [
       "<matplotlib.image.AxesImage at 0x7ff673cab9e8>"
      ]
     },
     "execution_count": 23,
     "metadata": {},
     "output_type": "execute_result"
    },
    {
     "data": {
      "image/png": "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\n",
      "text/plain": [
       "<Figure size 432x288 with 1 Axes>"
      ]
     },
     "metadata": {},
     "output_type": "display_data"
    }
   ],
   "source": [
    "with open(testing_file, mode='rb') as f:\n",
    "    test = pickle.load(f)\n",
    "X_test, y_test = test['features'], test['labels']\n",
    "print(\"test size\",len(X_test))\n",
    "\n",
    "deal_testx = normal_imgs(X_test)\n",
    "print(len(deal_testx))\n",
    "print(deal_testx[0].shape)\n",
    "plt.figure()\n",
    "\n",
    "\n",
    "plt.imshow(deal_testx[0])"
   ]
  },
  {
   "cell_type": "code",
   "execution_count": 24,
   "metadata": {},
   "outputs": [
    {
     "name": "stdout",
     "output_type": "stream",
     "text": [
      "INFO:tensorflow:Restoring parameters from ./savemodel/save_sess\n",
      "Test Accuracy = 0.931\n"
     ]
    }
   ],
   "source": [
    "with tf.Session() as sess:\n",
    "    saver.restore(sess, tf.train.latest_checkpoint('./savemodel/'))\n",
    "    \n",
    "    test_accuracy = evaluate(deal_testx, y_test)\n",
    "    print(\"Test Accuracy = {:.3f}\".format(test_accuracy))"
   ]
  },
  {
   "cell_type": "markdown",
   "metadata": {},
   "source": [
    "---\n",
    "\n",
    "## Step 3: Test a Model on New Images\n",
    "\n",
    "To give yourself more insight into how your model is working, download at least five pictures of German traffic signs from the web and use your model to predict the traffic sign type.\n",
    "\n",
    "You may find `signnames.csv` useful as it contains mappings from the class id (integer) to the actual sign name."
   ]
  },
  {
   "cell_type": "markdown",
   "metadata": {},
   "source": [
    "### Load and Output the Images"
   ]
  },
  {
   "cell_type": "code",
   "execution_count": 22,
   "metadata": {
    "scrolled": false
   },
   "outputs": [
    {
     "data": {
      "image/png": "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\n",
      "text/plain": [
       "<Figure size 144x144 with 1 Axes>"
      ]
     },
     "metadata": {},
     "output_type": "display_data"
    },
    {
     "data": {
      "image/png": "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\n",
      "text/plain": [
       "<Figure size 144x144 with 1 Axes>"
      ]
     },
     "metadata": {},
     "output_type": "display_data"
    },
    {
     "data": {
      "image/png": "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\n",
      "text/plain": [
       "<Figure size 144x144 with 1 Axes>"
      ]
     },
     "metadata": {},
     "output_type": "display_data"
    },
    {
     "data": {
      "image/png": "iVBORw0KGgoAAAANSUhEUgAAAJoAAACcCAYAAACHprIKAAAABHNCSVQICAgIfAhkiAAAAAlwSFlzAAALEgAACxIB0t1+/AAAADl0RVh0U29mdHdhcmUAbWF0cGxvdGxpYiB2ZXJzaW9uIDIuMi4yLCBodHRwOi8vbWF0cGxvdGxpYi5vcmcvhp/UCwAAGRFJREFUeJztXXmYVdWR/9Xbem+abroRAVEBQZS4YYsLqIhxl8QFY5YxamJMdBxjXBLny0yS0cQ4STQmMcYYBDWJkNExxjHuiKAooKBsssPHjkDv29tq/ri3b5169Hv96H59G+jz+z4+q2/VPefca71TdevUqUPMDAuLnkagtwdg0TdgFc3CF1hFs/AFVtEsfIFVNAtfYBXNwhf4rmhE1EhER7v0dCK6L4MsE9GIHhjDY0T0w1y367bdI2PuSRDRciI6pyf7CHXnZiL6AYCJzHyRcW0NgLUdXPshMz/LzMXd6TMXYOabe3sMBxKY+bie7qO7M9o7AM4goiAAENEgAGEAJ6VcG+HKWnQDRNStiaE30V1FWwhHsU50/54AYDaAVSnX1jHzNiCzaSGiu4hoOxFtI6IbMnVMRNcT0UoiaiCi9UT0LYN3DhFtIaLvEdEut83rDb5nsg3Zuw3ZLxDRxUS0moj2EtG9xr3VRDSfiGpd2d8SUSTNGC8mohXuGLcS0Z0ZnuebxvOsIKKT3esbiegeIvoEQBMRhYjoWCJ62x3DciK6vLM+iWgAEb3k3rOXiOYSUcDoY7JL/4iIZhHRU24by4lonNH+yUS02OX9jYhmZnJ/PDBzt/7BUazvuvRvAdwA4P6Ua9MMeQYwwqWnA7jPpS8EsBPA8QCKAPzFlO2g30sADAdAAM4G0AzgZJd3DoA4gJ/A+SFc7PL7d9Bvu+x/uLLfBPCZ238JgOMAtAA4ypU/BcB4OG7HkQBWArg9zfNtBzDBpfu3j6+DZ7kawFYAp7rPMwLAMJe3EcASAEMBFLhjXAvgXgARAJMANAAYlalPAD8D8Jh7fxjOBEBGH5Nd+kcAWt13FnTve9/lRQBsAvBvbhtXAIi2v8tM/3LxMTAHwESXngBgrvvPvDYni3amAniSmZcxcxOcB04LZv4/Zl7HDuYAeM3tqx0xAD9h5hgzvwygEcCoNM3FANzPzDEAzwIYAODXzNzAzMsBrABwgtvvh8z8PjPHmXkjgD/AUfR07Y4holJmrmHmj9LIfQPAg8y80H2etcy8yeA/wsybmbkFjpIXA3iAmaPM/BaAlwBc20mfMQCD4ChwjJnncvqF7nnM/DIzJwA83f7skB/YI24bzwNYkKYNhVwo2jsAziKicgCVzLwGwHtwfLdyODNUNv7Z4QA2G39vSicIAER0ERG975qBWji/wAGGyB5mjht/N8P5H9QR9rgvFXBmL8CZXWFcK3b7PcY1QTuIqB7AT1P6NXGlO65NRDSHiE5PIzcUwLo0PEC/l8MBbGbmpHFtE4DBnfT533BmwtdcV+P7GfrbYdDNAPJd//BwAFtTFHQzskAuFG0+gH5wTM67AMDM9QC2ude2MfOGLNrZDueFt+OIdIJElAfgOQC/ADCQmcsAvAzH7PQ0fg/gUwAjmbkUjgnrsF93hpoCoArACwBmpWlzMxw3IB3M/7HbAAxt969cHAHH9Kbt052dv8fMRwO4HMAdRHRexifdF9sBDCYi83mHphM20W1Fc6fzRQDugGMy2zHPvZbt1+YsAF8nojFEVAjgPzPIRgDkwfGl4kR0EYDP7+/Yu4gSAPUAGoloNIBvdyRERBEi+goR9XNNcj2AZEeyAJ4AcCcRnUIORhDRsDSyH8CZZe4mojA58a/LADybqU8iutRtlwDUAUhkGE86zHfvu9X9KJkCoDqbG3MVsJ0D5xc0z7g2172WlaIx8z8BPAzgLThT/FsZZBsA3AZHOWsAfBnAi10ZeBdwp9tfA4A/ApiZQfZrADa6JvZmAF/pSIiZ/wbnA+ovbrsvAChPIxuFo1gXAdgN4FEA/8LMn3bS50gAb8DxVecDeJSZZ2fxvKl9XwHgRgC1AL4Kxz9s6+xeSu8PWlh0DiL6AMBjzPxkJjm71mmxXyCis4noMNd0XgfgcwBe6ey+gzbSbNFrGAXHZSkCsB7AVcy8vbObrOm08AXdMp1EdCERrSKitZ3EZSz6OLo8o5GzaL4awPkAtsBZ97yWmVfkbngWhwq646NVw0kHWg8ARPQsgClwlms6RCDcj0N5VVk0TRn+yobRKdM36NgmYP6w9xmhIcvJpHE5pY2MPebWFYo2rtnNzJXdbac7ijYYevlhC4DTMnaWV4WBJzzSacOpL5bSWPh95NTfgYyyPYmkoSThcFjx4nFZFQsGg4oXCMiY29okNJXaRjIZRzrkwuc229g07/MZlwKzRY+HN4joJiJaRESLkrH6nu7O4gBFd2a0rdDrXEPcawrM/DiAxwEgUnwMt88s+zPDkGFkMt1n8vYV6/iXvj/jSDdbBIPhtHLmLNXR311BLtrwO9rQnREvBDCSiI5yE/++BP+WgSwOMnR5RmPmOBHdCuBVOAly09zcLQuLfdCtlQE3ofDlHI3F4hCGr0tQROn9i4y+l2Hhs/fRuvaVmem+dH5NJn8nEy/TV7P5RZr6dZpM7r9/lToOP7/CAbuobuETrKJZ+ALfszey+TTfZ1rnjk1itmZ0f3j7NS4XZoAWSH1GTuEJHQymtscd8oh61+zlAnZGs/AFVtEsfIFVNAtf4LOPRln5F/t+9u//onq2fkxX/R0zXJAafgiF5LWm+m+mbGrfpmwmXza1v2zG2NuwM5qFL7CKZuELDpiVgYz3pcneyBjCSOkm1yEBc0yJePp9uJlCH6nvwpTN1jweLLAzmoUvsIpm4Qt8XxnoWuJjFxbVe9h0qrZDujPzqzORSGjZDKY/3aJ6KlLNsQm1JyHLZ/bj69TOaBa+wCqahS+wimbhC3xfGfArvBEI5H5lIJ0vU1yiC0maPlqmfZ3ZjitzdkjXcDBtTrGwyBpW0Sx8Qa+tDPRE0qLiRVN2qpcJL94U8+g8jim5/GA/j96FZsUbGG/16Np8qfz5zTN1se2Be5Z59ILwJYr3P2/lSV8VekN1kWESGw3TXxTTZi5unGuRrQnklCqilKFkRE+YVTujWfgCq2gWvsAqmoUvOCCXoHKxdzMc1rw99eIPHV7e36MDe/QSUW2wzqMrIvqcil0Q/+rmMxo9Ovrir5Xc3+Ys9egrby9VvA9P9Q79w9IV+gipASFpv9jwqRKBIiUXIPEVs/fRehedzmhENI2cw7iWGdfKieh1Ilrj/rd/pjYsLLIxndPhHAhm4vsA3mTmkQDedP+2sEiLTk0nM79DREemXJ4C51Q4AJgB4G0A93TeXfqVgVyXOqCQDluUhko8uq1VCtmVhPV48sNipnY3tSpe9ckS+hiy6TGPXjJvnpIbmi8rBWtnaLN6xYMjPXrnsrGKxxBzXByV61uL9RhLo9m51sqsdnGFIlfo6sfAQKPk9w4AA3M0HotDFLk4C4qRwdc0Kz4mojXd7c7iIEVXvzp3EtEgZt5OzlHWu9IJmhUfC8uO5XSmLxemU/GCWvcLk2ISo0n50qwJaeUvSsiheoVVdYo3pXyxR698Qk6k2ZPyFiuTYrZX1e5QvMmzHvLo6uo/Kt7iRfK7j4XEbJcG9JdxICBJkdlWK9pnZeAgqSb0IoDrXPo6AH/PzXAsDlVkE974K5zT0EaRc/b4jQAeAHA+Ea0BMNn928IiLbL56rw2DWt/DxW16MPotZWBbK+n8rLecJHUk3XCyFYwN35EQ/2UXF2ThBi+fmaB4u2d+XOPbtq1x6P7jTxOyQ0bP86jN8ycoXifzJEjyM+45A3FW1A1yaOTe2XVoLRFh1kaM5RVMJHtRhW7OcXikIFVNAtfcECazlwsuAeTeYqXiBiVepKGKWrOV3LjTxNzOXzFE4r32tuLPLoAEi6pvuJSJXfkFRd4dO2q+Yq3bsFqjy575iHFu/wGcXunPy9zQLBc70mgWPojetKil4tE2hnNwhdYRbPwBVbRLHzBAbmvM/PxiJ1fB4BgRD9aIi7pEME88csGRpqU3PnlWzx6yc90HLqwsNCj+50qmRcDLjxdybU1ydLVyK99Q/Fq1vzEo9cvWKV4E4/9ndAT7vTo9z7Wm1gqMrzDtCGNlMreXanR0R3YGc3CF1hFs/AFvu/r7O7KQLb3JAM6W6HIqGO1q1Huu3LqEUpu82/v8uh4i24zv0Je12nfusaj61j31a9BzHTe6BP0OC6T6H/5M68o3qoXJSPkgh+K3CeBE5UcIf0BuypjQyU+ZinXQ7AzmoUvsIpm4Qt8NZ3MSSQSzqH0yTK9lS1YI+amJLlT8WLF5R5d0ywLyhVFOkLeGjdWA1iXM/gsIm1MHiuR9s99eK+Se3PBXOk3OETxTrv2Co8ecIp8aS77+2tKbskHH3j08WedpHjV13zVo+e/v1rxWlZ/6tFt/xQzOvkivYLwyrvyLBXJPYrXGGrw6CAqPZqS+n2YyZNFEe0jbE7mXi3sjGbhC6yiWfgCq2gWvsBXHy0AQoH7WR2NtykeheXvWFuV4nFAeAPLJJSQrNWlAvKKaj06DJ29wUGRPW+QJB++95t/KLk2oyTUYecerds4dZRHf+srN3p0tFZX0L7j+7d5dOUAnTzZv1Q29Q++Spe02vFz8dEWvvu/Hj3m1MlKbnDZlR69t0VvfukfPt6jE9grjFiJkmtpEd+unvS7KuuBlQI7o1n4AqtoFr7AX9NJhKKwkwsfa2lUvFDIqKyTr80NG/skgwkJg4RTznyIBmWxvL5BR+tvvEaEdz92n0c3NHym5PL7i9ke8w29L6f8qMM8mhIy3vJyve9g+PDhHh1o0eGHhqiEGYZder7iNb3+pke3Ll3i0bX/+JmSm3L9WR796EeVileYFHOZbJT9oIkSve8gzyjbEEvq8YdJh5dyATujWfgCq2gWvsAqmoUv8HcJioAEOb5SSmkMhILil8VDuuZFMCm+V7RFfK28Eu3n7W0SX6P6jDLFG7FS/Jw3Fnzo0aSrW+GYW6cKfeQYxatvliTJc88916OffPpxJVcYkqWx1pSaF80svlKoRf/OR956k0fX3iZZJC1Ltyi5fisf8egThz2oeKs2SLijLCLvtCasl5mSCalEmdes/TfWRSpzgmxKIgwlotlEtIKIlhPRv7nXbdVHi6yRjemMA/geM48BMB7ALUQ0Brbqo8V+IJvaG9sBbHfpBiJaCWAwulD1McmEpmQYABBJiU0Eg0bJpqjONIiEJKqfyBe6jnVooqJceBdULFW8Jb/4jUcHYvLZX1ytsyuOnCQmsbZef+YfefhEj26lFz16d7024Y88LH3d8wOdHZJoknBHsqlB8aJj5JCMI66+2qPXPDFdya157k8e/fl7UlYXiqQKbH3TBo8uYL2K0hI0kjMjOpGSUmRzgf36GHBLjJ4E4APYqo8W+4GsFY2IigE8B+B2ZlY/gUxVH82Kj/E2W/GxryIrRSOiMBwl+zMzP+9e3ulWe0Smqo/M/Dgzj2PmcaE8+73QV9Gpj0bOLoY/AVjJzL8yWO1VHx9AtlUfKQByl6AYulxmMiB+TmFIhyYCRmnNVqPkZiSm62ZMPVXk6K//rnj1rbIns7BQJuTqO7+r5CJN0sYtD9yveGOHy2aS95a8J4zWsJJ77oVXPXrrbu1vfukLUqejapj2hSqSMsYh113u0Vve0fU7albLftDoS/+leBdcPd6jn5wr72cwokouUSgZMVyo32OoNvfZG9nE0c4E8DUAS4mofQHuXjgKNsutALkJwNQ091tYZPXVOQ/pa9HYqo8WWcHXlYEgJVHkmr62mHYPk8ZmiUieHlbSmPUTxrHPpw3T3x9Hb33Go5fPfl/xzEDIhDtu9uhBw4YpuahxRuclZ+gDY3YWSGLl0LWyuab4c3qjzcZ1klj55mxd1XHO7Hc8unKQzlK54zvf9ujR557h0WNvvFrJvfvgwx69Yu5ixZt0wVMefeao6z16/UadRRKJyvuOB/T7DgbseZ0WBymsoln4An9LIiCBcNIxP8mANjdsFC1ui25WvAikbEFxRL7MzjpunZJbcpdE4VuD+kvqmHFHefTRV0k5g70xXU0ov0ns9LjxwxXvjdfkSOtf/Fj6aiJdkTEWXe/R8xatULzpMyW5cdvSjxXvj08/79Gzxl/s0TUTxym5oa/Kasaudxcq3vyHpALSxF9Ve/TyraOVXBnkS7mxebvihQt6eWXAwqKrsIpm4Qusoln4Al99tCSHEY0NAgDEy7RvZB6v2T8wSPG2Nglz6qUSfgg8dbeSq98h4YK2Ql2X47ybJKkwEJM2QjGd+dgYlnEVlWk/7/xzTpYxGUmQRfk6uTGaEJ9t8jmTFG/i6ZIB8u1bble8mhpZC97YKJkjhUkdBhlyy1UevXnlSsULb5fnif79px590YRnlNyri2WFJZZyLHhhUj9PLmBnNAtfYBXNwhf4Wyw5yEj0d0xauCFFx/MkCTDeqrM8xp4gJuzoHdM9ev4bi5RcXlAWisfeepviFZ0k+f81TWL2ClIKDzMb5jfl4IjKKlnsb2kT09Ncu03JlVfI+FtTkieDQQkr/O4hvSD+9FN/9eg/T3/Uo++6Wy/8U3iER4+ZeqXiLfn1Hzx62SuyajDxJF1a6+MBX/bo7Xv1qkFpQJdIyAXsjGbhC6yiWfgCq2gWvsDf2hsMFLU5mQEU0P5Pg5G9Eeina0Fcc6yU4Pz0X8V3KQ7o0lfFp8ghE8de/kXFazWSJ4uN8y4DTSnnlRtlNfMiemkpYdQACZCMv6xKV/ZuaBZ/M7+4QvFajD2U4bxCxbvpu7KXc9q0aR69coNeIhpq9Df6yimKt27hTI+ue098r3WzdHnSM2+TElwz5w1WvF3Q+2pzATujWfgCq2gWvsDf8AYT2N3XmSjVOey1RnHCq76o9+RvmC4mpX6XJB826oA5xky6zKNba3TIYfcGCTMMKJPshHiLNp2xgGHOknploMk455ONsgcFjREll0wKL96myw1EIiKbSOi+OSER+bPPnuDRCxboJM7RX5RMlHixjuoff4OsNqxYLQmS65fqBMnxH/7SoycdM1Px5m5KqRORA9gZzcIXWEWz8AU+VxNKIh5wTEm/Jm33jh8lUfchS/UX0s7XxXTEjZ14AyP6wIkFf5LdgBWPaLOUMM6CWpYn0XkO661yxSGJikdbtHmPlIlJbzbOf0oW6N9rOF++aptTKlsWFEob4ZA2zfGE5OpXVsnXalWNjty//bFUF4oH9abs0gGyByKQJ8UDSgprldzSv/zTo4f/4AXFyyvUZSJyATujWfgCq2gWvsAqmoUv8LkqN6OgwPl0ju3QZauGjBXfKPbcEsXbaSwiRI1IQlNCJ+gFohJKqGtL8ZuMPdAtkAZrGrQPVcUiF47q/Y31uyUGYwYt8lOSHczFhqJi/ZyNLRJmqdMLGygvFr91yYJlHl2sXTnUJoSnj6kA9iSkfEKdUS28vFD/r95dK6sXlYv/oHgXnCcJk68jN8im4mM+ES0goo/dio8/dq8fRUQfENFaIppJRJHO2rLou8jGdLYBmMTMJwA4EcCFRDQewM8BPMTMIwDUALgxQxsWfRzZ1N5gAO32Jez+YwCTALRnz80A8CMAv8/YVoAQdSPjbaXapLy4RPY/fuey+xTvmJMlR761ReIbdcmtSq4oXwxJknRooqxFTEWkVH5fO5t16KBfUibmYtKhj8/qpRBxNCoVifJK9D7IomLDDUjZk9DaKuMqLtLJAw11YsaPMFYXYnH9LEVRee6SFt13flT622IkHVSxTiataJQQSTB2mOINqNfniOYC2dZHC7qVhHbBMdvrANQyc/vb2AKn3KiFRYfIStGYOcHMJwIYAqAawOhObvFgVnyMttiKj30V+xXeYOZaALMBnA6gjMg7c3AIgK1p7vEqPkYKbMXHvopsKj5WAogxcy0RFQA4H86HwGwAVwF4FtlWfEwQQg1Ol8UpSYXBTZI18cttukpieYlUMYwnxLerDI9Vcm1GBkjBIB22GJsnBzpws/haraVHKbk6NsaVUr6JB0ubNbtkP+Www3SFyqojZGmsrk4v/RSTjL+2Rj9nxbFyVnoyKTGSmlpdfbyyVWpqxFq0n7cjLm2UhuS+nQltTapCclhZTUT7yx/vTIm75ADZxNEGAZhBREE4M+AsZn6JiFYAeJaI7gOwGE75UQuLDpHNV+cncEq+p15fD8dfs7DoFOREL3zqjOgzOPVuBwDY7VvHBzYO9HcxjJkrOxfLDF8VzeuUaBEzj+tc8tBHX3kXdlHdwhdYRbPwBb2laI93LtJn0CfeRa/4aBZ9D9Z0WvgCXxWNiC4kolVuDlufO0i2L5/m7JvpdFcWVsNZwtoCYCGAa5l5RcYbDyG4pwAOYuaPiKgEwIcAvgDg6wD2MvMD7g+wPzNnPGT3YIOfM1o1gLXMvJ6Zo3DWSKd0cs8hBWbezswfuXQDAPM05xmu2Aw4yndIwU9FGwzAPKmiT+ew9bXTnO3HQC+gq6c5H8zwU9G2Ahhq/J02h+1QRndOcz6Y4aeiLQQw0t09FQHwJTinGPcZZHGaM5Btbt9BBr+zNy4G8DCAIIBpzHx/J7ccUiCiswDMBbAUQPum1Hvh+GmzABwB9zRnZt7bYSMHKezKgIUvsB8DFr7AKpqFL7CKZuELrKJZ+AKraBa+wCqahS+wimbhC6yiWfiC/wdZbKR+OdSfMgAAAABJRU5ErkJggg==\n",
      "text/plain": [
       "<Figure size 144x144 with 1 Axes>"
      ]
     },
     "metadata": {},
     "output_type": "display_data"
    },
    {
     "data": {
      "image/png": "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\n",
      "text/plain": [
       "<Figure size 144x144 with 1 Axes>"
      ]
     },
     "metadata": {},
     "output_type": "display_data"
    }
   ],
   "source": [
    "### Load the images and plot them here.\n",
    "### Feel free to use as many code cells as needed.\n",
    "import os\n",
    "import matplotlib.image as mpimg\n",
    "\n",
    "imgs = []\n",
    "for file in os.listdir(r'./testdata/'):\n",
    "    img = mpimg.imread(r'./testdata/' + file)\n",
    "    imgs.append(img)\n",
    "    plt.figure(figsize=(2,2))\n",
    "    plt.title(file[:-4])\n",
    "    plt.imshow(img)\n",
    "\n"
   ]
  },
  {
   "cell_type": "markdown",
   "metadata": {},
   "source": [
    "### Predict the Sign Type for Each Image"
   ]
  },
  {
   "cell_type": "code",
   "execution_count": 8,
   "metadata": {},
   "outputs": [],
   "source": [
    "### Run the predictions here and use the model to output the prediction for each image.\n",
    "### Make sure to pre-process the images with the same pre-processing pipeline used earlier.\n",
    "### Feel free to use as many code cells as needed."
   ]
  },
  {
   "cell_type": "code",
   "execution_count": 21,
   "metadata": {},
   "outputs": [
    {
     "ename": "NameError",
     "evalue": "name 'imgs' is not defined",
     "output_type": "error",
     "traceback": [
      "\u001b[0;31m---------------------------------------------------------------------------\u001b[0m",
      "\u001b[0;31mNameError\u001b[0m                                 Traceback (most recent call last)",
      "\u001b[0;32m<ipython-input-21-3c41a948b9bf>\u001b[0m in \u001b[0;36m<module>\u001b[0;34m()\u001b[0m\n\u001b[0;32m----> 1\u001b[0;31m \u001b[0mimgs_deal\u001b[0m \u001b[0;34m=\u001b[0m \u001b[0mnormal_imgs\u001b[0m\u001b[0;34m(\u001b[0m\u001b[0mimgs\u001b[0m\u001b[0;34m)\u001b[0m\u001b[0;34m\u001b[0m\u001b[0m\n\u001b[0m\u001b[1;32m      2\u001b[0m \u001b[0mpredicts\u001b[0m \u001b[0;34m=\u001b[0m \u001b[0mtf\u001b[0m\u001b[0;34m.\u001b[0m\u001b[0margmax\u001b[0m\u001b[0;34m(\u001b[0m\u001b[0mlogits\u001b[0m\u001b[0;34m,\u001b[0m\u001b[0;36m1\u001b[0m\u001b[0;34m)\u001b[0m\u001b[0;34m\u001b[0m\u001b[0m\n\u001b[1;32m      3\u001b[0m \u001b[0;34m\u001b[0m\u001b[0m\n\u001b[1;32m      4\u001b[0m \u001b[0msaver\u001b[0m \u001b[0;34m=\u001b[0m \u001b[0mtf\u001b[0m\u001b[0;34m.\u001b[0m\u001b[0mtrain\u001b[0m\u001b[0;34m.\u001b[0m\u001b[0mSaver\u001b[0m\u001b[0;34m(\u001b[0m\u001b[0;34m)\u001b[0m\u001b[0;34m\u001b[0m\u001b[0m\n\u001b[1;32m      5\u001b[0m \u001b[0;32mwith\u001b[0m \u001b[0mtf\u001b[0m\u001b[0;34m.\u001b[0m\u001b[0mSession\u001b[0m\u001b[0;34m(\u001b[0m\u001b[0;34m)\u001b[0m \u001b[0;32mas\u001b[0m \u001b[0msess\u001b[0m\u001b[0;34m:\u001b[0m\u001b[0;34m\u001b[0m\u001b[0m\n",
      "\u001b[0;31mNameError\u001b[0m: name 'imgs' is not defined"
     ]
    }
   ],
   "source": [
    "imgs_deal = normal_imgs(imgs)\n",
    "predicts = tf.argmax(logits,1)\n",
    "\n",
    "saver = tf.train.Saver()\n",
    "with tf.Session() as sess:\n",
    "    saver.restore(sess, tf.train.latest_checkpoint('./savemodel/'))\n",
    "    \n",
    "    predicts = sess.run(predicts,feed_dict = {x:imgs_deal,keep_prob:1})\n",
    "print(predicts)\n"
   ]
  },
  {
   "cell_type": "code",
   "execution_count": 28,
   "metadata": {},
   "outputs": [
    {
     "data": {
      "text/plain": [
       "['Speed limit (70km/h)',\n",
       " 'No passing',\n",
       " 'Priority road',\n",
       " 'Road work',\n",
       " 'Road work']"
      ]
     },
     "execution_count": 28,
     "metadata": {},
     "output_type": "execute_result"
    }
   ],
   "source": [
    "predicts_name = [transfer[str(k)] for k in predicts]\n",
    "predicts_name"
   ]
  },
  {
   "cell_type": "markdown",
   "metadata": {},
   "source": [
    "### Analyze Performance"
   ]
  },
  {
   "cell_type": "code",
   "execution_count": 29,
   "metadata": {},
   "outputs": [],
   "source": [
    "### Calculate the accuracy for these 5 new images. \n",
    "### For example, if the model predicted 1 out of 5 signs correctly, it's 20% accurate on these new images."
   ]
  },
  {
   "cell_type": "markdown",
   "metadata": {},
   "source": [
    "### --------Obviously, I've got 100% accurate on these new images"
   ]
  },
  {
   "cell_type": "markdown",
   "metadata": {},
   "source": [
    "### Output Top 5 Softmax Probabilities For Each Image Found on the Web"
   ]
  },
  {
   "cell_type": "markdown",
   "metadata": {},
   "source": [
    "For each of the new images, print out the model's softmax probabilities to show the **certainty** of the model's predictions (limit the output to the top 5 probabilities for each image). [`tf.nn.top_k`](https://www.tensorflow.org/versions/r0.12/api_docs/python/nn.html#top_k) could prove helpful here. \n",
    "\n",
    "The example below demonstrates how tf.nn.top_k can be used to find the top k predictions for each image.\n",
    "\n",
    "`tf.nn.top_k` will return the values and indices (class ids) of the top k predictions. So if k=3, for each sign, it'll return the 3 largest probabilities (out of a possible 43) and the correspoding class ids.\n",
    "\n",
    "Take this numpy array as an example. The values in the array represent predictions. The array contains softmax probabilities for five candidate images with six possible classes. `tf.nn.top_k` is used to choose the three classes with the highest probability:\n",
    "\n",
    "```\n",
    "# (5, 6) array\n",
    "a = np.array([[ 0.24879643,  0.07032244,  0.12641572,  0.34763842,  0.07893497,\n",
    "         0.12789202],\n",
    "       [ 0.28086119,  0.27569815,  0.08594638,  0.0178669 ,  0.18063401,\n",
    "         0.15899337],\n",
    "       [ 0.26076848,  0.23664738,  0.08020603,  0.07001922,  0.1134371 ,\n",
    "         0.23892179],\n",
    "       [ 0.11943333,  0.29198961,  0.02605103,  0.26234032,  0.1351348 ,\n",
    "         0.16505091],\n",
    "       [ 0.09561176,  0.34396535,  0.0643941 ,  0.16240774,  0.24206137,\n",
    "         0.09155967]])\n",
    "```\n",
    "\n",
    "Running it through `sess.run(tf.nn.top_k(tf.constant(a), k=3))` produces:\n",
    "\n",
    "```\n",
    "TopKV2(values=array([[ 0.34763842,  0.24879643,  0.12789202],\n",
    "       [ 0.28086119,  0.27569815,  0.18063401],\n",
    "       [ 0.26076848,  0.23892179,  0.23664738],\n",
    "       [ 0.29198961,  0.26234032,  0.16505091],\n",
    "       [ 0.34396535,  0.24206137,  0.16240774]]), indices=array([[3, 0, 5],\n",
    "       [0, 1, 4],\n",
    "       [0, 5, 1],\n",
    "       [1, 3, 5],\n",
    "       [1, 4, 3]], dtype=int32))\n",
    "```\n",
    "\n",
    "Looking just at the first row we get `[ 0.34763842,  0.24879643,  0.12789202]`, you can confirm these are the 3 largest probabilities in `a`. You'll also notice `[3, 0, 5]` are the corresponding indices."
   ]
  },
  {
   "cell_type": "code",
   "execution_count": 3,
   "metadata": {
    "collapsed": true
   },
   "outputs": [],
   "source": [
    "### Print out the top five softmax probabilities for the predictions on the German traffic sign images found on the web. \n",
    "### Feel free to use as many code cells as needed."
   ]
  },
  {
   "cell_type": "code",
   "execution_count": 23,
   "metadata": {
    "scrolled": true
   },
   "outputs": [
    {
     "name": "stdout",
     "output_type": "stream",
     "text": [
      "INFO:tensorflow:Restoring parameters from ./savemodel/save_sess\n"
     ]
    },
    {
     "ename": "NameError",
     "evalue": "name 'imgs_deal' is not defined",
     "output_type": "error",
     "traceback": [
      "\u001b[0;31m---------------------------------------------------------------------------\u001b[0m",
      "\u001b[0;31mNameError\u001b[0m                                 Traceback (most recent call last)",
      "\u001b[0;32m<ipython-input-23-9033b5ba48f2>\u001b[0m in \u001b[0;36m<module>\u001b[0;34m()\u001b[0m\n\u001b[1;32m      5\u001b[0m     \u001b[0msaver\u001b[0m\u001b[0;34m.\u001b[0m\u001b[0mrestore\u001b[0m\u001b[0;34m(\u001b[0m\u001b[0msess\u001b[0m\u001b[0;34m,\u001b[0m \u001b[0mtf\u001b[0m\u001b[0;34m.\u001b[0m\u001b[0mtrain\u001b[0m\u001b[0;34m.\u001b[0m\u001b[0mlatest_checkpoint\u001b[0m\u001b[0;34m(\u001b[0m\u001b[0;34m'./savemodel/'\u001b[0m\u001b[0;34m)\u001b[0m\u001b[0;34m)\u001b[0m\u001b[0;34m\u001b[0m\u001b[0m\n\u001b[1;32m      6\u001b[0m \u001b[0;34m\u001b[0m\u001b[0m\n\u001b[0;32m----> 7\u001b[0;31m     \u001b[0mpredicts_top5\u001b[0m \u001b[0;34m=\u001b[0m \u001b[0msess\u001b[0m\u001b[0;34m.\u001b[0m\u001b[0mrun\u001b[0m\u001b[0;34m(\u001b[0m\u001b[0mtop5\u001b[0m\u001b[0;34m,\u001b[0m\u001b[0mfeed_dict\u001b[0m \u001b[0;34m=\u001b[0m \u001b[0;34m{\u001b[0m\u001b[0mx\u001b[0m\u001b[0;34m:\u001b[0m\u001b[0mimgs_deal\u001b[0m\u001b[0;34m}\u001b[0m\u001b[0;34m)\u001b[0m\u001b[0;34m\u001b[0m\u001b[0m\n\u001b[0m\u001b[1;32m      8\u001b[0m \u001b[0mprint\u001b[0m\u001b[0;34m(\u001b[0m\u001b[0mpredicts_top5\u001b[0m\u001b[0;34m)\u001b[0m\u001b[0;34m\u001b[0m\u001b[0m\n",
      "\u001b[0;31mNameError\u001b[0m: name 'imgs_deal' is not defined"
     ]
    }
   ],
   "source": [
    "predict_softmax = tf.nn.softmax(logits)\n",
    "top5 = tf.nn.top_k(predict_softmax,5)\n",
    "\n",
    "with tf.Session() as sess:\n",
    "    saver.restore(sess, tf.train.latest_checkpoint('./savemodel/'))\n",
    "    \n",
    "    predicts_top5 = sess.run(top5,feed_dict = {x:imgs_deal})\n",
    "print(predicts_top5)\n"
   ]
  },
  {
   "cell_type": "markdown",
   "metadata": {},
   "source": [
    "### -------My answer looks good"
   ]
  },
  {
   "cell_type": "markdown",
   "metadata": {},
   "source": [
    "### Project Writeup\n",
    "\n",
    "Once you have completed the code implementation, document your results in a project writeup using this [template](https://github.com/udacity/CarND-Traffic-Sign-Classifier-Project/blob/master/writeup_template.md) as a guide. The writeup can be in a markdown or pdf file. "
   ]
  },
  {
   "cell_type": "markdown",
   "metadata": {},
   "source": [
    "> **Note**: Once you have completed all of the code implementations and successfully answered each question above, you may finalize your work by exporting the iPython Notebook as an HTML document. You can do this by using the menu above and navigating to  \\n\",\n",
    "    \"**File -> Download as -> HTML (.html)**. Include the finished document along with this notebook as your submission."
   ]
  },
  {
   "cell_type": "markdown",
   "metadata": {},
   "source": [
    "---\n",
    "\n",
    "## Step 4 (Optional): Visualize the Neural Network's State with Test Images\n",
    "\n",
    " This Section is not required to complete but acts as an additional excersise for understaning the output of a neural network's weights. While neural networks can be a great learning device they are often referred to as a black box. We can understand what the weights of a neural network look like better by plotting their feature maps. After successfully training your neural network you can see what it's feature maps look like by plotting the output of the network's weight layers in response to a test stimuli image. From these plotted feature maps, it's possible to see what characteristics of an image the network finds interesting. For a sign, maybe the inner network feature maps react with high activation to the sign's boundary outline or to the contrast in the sign's painted symbol.\n",
    "\n",
    " Provided for you below is the function code that allows you to get the visualization output of any tensorflow weight layer you want. The inputs to the function should be a stimuli image, one used during training or a new one you provided, and then the tensorflow variable name that represents the layer's state during the training process, for instance if you wanted to see what the [LeNet lab's](https://classroom.udacity.com/nanodegrees/nd013/parts/fbf77062-5703-404e-b60c-95b78b2f3f9e/modules/6df7ae49-c61c-4bb2-a23e-6527e69209ec/lessons/601ae704-1035-4287-8b11-e2c2716217ad/concepts/d4aca031-508f-4e0b-b493-e7b706120f81) feature maps looked like for it's second convolutional layer you could enter conv2 as the tf_activation variable.\n",
    "\n",
    "For an example of what feature map outputs look like, check out NVIDIA's results in their paper [End-to-End Deep Learning for Self-Driving Cars](https://devblogs.nvidia.com/parallelforall/deep-learning-self-driving-cars/) in the section Visualization of internal CNN State. NVIDIA was able to show that their network's inner weights had high activations to road boundary lines by comparing feature maps from an image with a clear path to one without. Try experimenting with a similar test to show that your trained network's weights are looking for interesting features, whether it's looking at differences in feature maps from images with or without a sign, or even what feature maps look like in a trained network vs a completely untrained one on the same sign image.\n",
    "\n",
    "<figure>\n",
    " <img src=\"visualize_cnn.png\" width=\"380\" alt=\"Combined Image\" />\n",
    " <figcaption>\n",
    " <p></p> \n",
    " <p style=\"text-align: center;\"> Your output should look something like this (above)</p> \n",
    " </figcaption>\n",
    "</figure>\n",
    " <p></p> \n"
   ]
  },
  {
   "cell_type": "code",
   "execution_count": 21,
   "metadata": {},
   "outputs": [],
   "source": [
    "import tensorflow as tf\n",
    "import matplotlib.pyplot as plt\n",
    "import matplotlib.image as mpimg\n",
    "import numpy as np\n",
    "import random\n",
    "% matplotlib inline"
   ]
  },
  {
   "cell_type": "code",
   "execution_count": 22,
   "metadata": {},
   "outputs": [],
   "source": [
    "### Visualize your network's feature maps here.\n",
    "### Feel free to use as many code cells as needed.\n",
    "\n",
    "# image_input: the test image being feed into the network to produce the feature maps\n",
    "# tf_activation: should be a tf variable name used during your training procedure that represents the calculated state of a specific weight layer\n",
    "# activation_min/max: can be used to view the activation contrast in more detail, by default matplot sets min and max to the actual min and max values of the output\n",
    "# plt_num: used to plot out multiple different weight feature map sets on the same block, just extend the plt number for each new feature map entry\n",
    "\n",
    "def outputFeatureMap(image_input, tf_activation, activation_min=-1, activation_max=-1 ,plt_num=1):\n",
    "    # Here make sure to preprocess your image_input in a way your network expects\n",
    "    # with size, normalization, ect if needed\n",
    "    # image_input =\n",
    "    # Note: x should be the same name as your network's tensorflow data placeholder variable\n",
    "    # If you get an error tf_activation is not defined it may be having trouble accessing the variable from inside a function\n",
    "    activation = tf_activation.eval(session=sess,feed_dict={X : image_input})\n",
    "    featuremaps = activation.shape[3]\n",
    "    plt.figure(plt_num, figsize=(15,15))\n",
    "    for featuremap in range(featuremaps):\n",
    "        plt.subplot(6,8, featuremap+1) # sets the number of feature maps to show on each row and column\n",
    "        plt.title('FeatureMap ' + str(featuremap)) # edisplays the feature map number\n",
    "        if activation_min != -1 & activation_max != -1:\n",
    "            plt.imshow(activation[0,:,:, featuremap], interpolation=\"nearest\", vmin =activation_min, vmax=activation_max, cmap=\"gray\")\n",
    "        elif activation_max != -1:\n",
    "            plt.imshow(activation[0,:,:, featuremap], interpolation=\"nearest\", vmax=activation_max, cmap=\"gray\")\n",
    "        elif activation_min !=-1:\n",
    "            plt.imshow(activation[0,:,:, featuremap], interpolation=\"nearest\", vmin=activation_min, cmap=\"gray\")\n",
    "        else:\n",
    "            plt.imshow(activation[0,:,:, featuremap], interpolation=\"nearest\", cmap=\"gray\")"
   ]
  },
  {
   "cell_type": "code",
   "execution_count": 23,
   "metadata": {
    "scrolled": false
   },
   "outputs": [
    {
     "name": "stdout",
     "output_type": "stream",
     "text": [
      "INFO:tensorflow:Restoring parameters from savemodel/save_sess\n"
     ]
    },
    {
     "data": {
      "image/png": "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\n",
      "text/plain": [
       "<Figure size 1080x1080 with 18 Axes>"
      ]
     },
     "metadata": {},
     "output_type": "display_data"
    }
   ],
   "source": [
    "tf.reset_default_graph()\n",
    "X = tf.placeholder(tf.float32,[None,32,32,3])\n",
    "mu = 0\n",
    "sigma = 0.1\n",
    "conv1_w = tf.Variable(tf.truncated_normal(shape=(5,5,3,18),mean=mu, stddev=sigma))\n",
    "conv1_b = tf.Variable(tf.zeros(18))\n",
    "conv1 = tf.nn.conv2d(X,conv1_w,strides=[1,1,1,1],padding='VALID') + conv1_b\n",
    "\n",
    "# conv1 = tf.nn.relu(conv1)\n",
    "# #(28,28,18) to (14,14,18)\n",
    "# conv1 = tf.nn.max_pool(conv1,ksize = [1,2,2,1],strides=[1,2,2,1],padding='VALID')\n",
    "\n",
    "#(14,14,18) to (10,10,54)\n",
    "conv2_w = tf.Variable(tf.truncated_normal(shape=(5,5,18,54),mean=mu,stddev=sigma))\n",
    "conv2_b = tf.Variable(tf.zeros(54))\n",
    "conv2 = tf.nn.conv2d(conv1,conv2_w,strides=[1,1,1,1],padding='VALID') + conv2_b\n",
    "conv2 = tf.nn.relu(conv2)\n",
    "\n",
    "#(10,10,54) to (5,5,54)\n",
    "conv2 = tf.nn.max_pool(conv2,ksize=[1,2,2,1],strides=[1,2,2,1], padding='VALID')\n",
    "\n",
    "img = mpimg.imread('testdata/No passing.jpg')\n",
    "img = np.array(img).astype(np.float32)\n",
    "img = (img-128)/128\n",
    "img = np.reshape(img,[1,32,32,3])\n",
    "saver = tf.train.Saver()\n",
    "with tf.Session() as sess:\n",
    "#     saver = tf.train.import_meta_graph('savemodel/save_sess.meta')\n",
    "    saver.restore(sess, tf.train.latest_checkpoint('savemodel/'))\n",
    "    outputFeatureMap(img, conv1)\n",
    "    \n",
    "    "
   ]
  },
  {
   "cell_type": "markdown",
   "metadata": {},
   "source": [
    "### I write this cell for test dataset,you needn't to see it"
   ]
  },
  {
   "cell_type": "code",
   "execution_count": 31,
   "metadata": {},
   "outputs": [
    {
     "name": "stdout",
     "output_type": "stream",
     "text": [
      "test size 12630\n",
      "12630\n",
      "(32, 32, 3)\n",
      "INFO:tensorflow:Restoring parameters from ./savemodel/save_sess\n"
     ]
    },
    {
     "ename": "TypeError",
     "evalue": "Cannot interpret feed_dict key as Tensor: Tensor Tensor(\"Placeholder_1:0\", dtype=int32) is not an element of this graph.",
     "output_type": "error",
     "traceback": [
      "\u001b[0;31m---------------------------------------------------------------------------\u001b[0m",
      "\u001b[0;31mValueError\u001b[0m                                Traceback (most recent call last)",
      "\u001b[0;32m/usr/local/lib/python3.5/dist-packages/tensorflow/python/client/session.py\u001b[0m in \u001b[0;36m_run\u001b[0;34m(self, handle, fetches, feed_dict, options, run_metadata)\u001b[0m\n\u001b[1;32m   1091\u001b[0m             subfeed_t = self.graph.as_graph_element(\n\u001b[0;32m-> 1092\u001b[0;31m                 subfeed, allow_tensor=True, allow_operation=False)\n\u001b[0m\u001b[1;32m   1093\u001b[0m           \u001b[0;32mexcept\u001b[0m \u001b[0mException\u001b[0m \u001b[0;32mas\u001b[0m \u001b[0me\u001b[0m\u001b[0;34m:\u001b[0m\u001b[0;34m\u001b[0m\u001b[0m\n",
      "\u001b[0;32m/usr/local/lib/python3.5/dist-packages/tensorflow/python/framework/ops.py\u001b[0m in \u001b[0;36mas_graph_element\u001b[0;34m(self, obj, allow_tensor, allow_operation)\u001b[0m\n\u001b[1;32m   3489\u001b[0m     \u001b[0;32mwith\u001b[0m \u001b[0mself\u001b[0m\u001b[0;34m.\u001b[0m\u001b[0m_lock\u001b[0m\u001b[0;34m:\u001b[0m\u001b[0;34m\u001b[0m\u001b[0m\n\u001b[0;32m-> 3490\u001b[0;31m       \u001b[0;32mreturn\u001b[0m \u001b[0mself\u001b[0m\u001b[0;34m.\u001b[0m\u001b[0m_as_graph_element_locked\u001b[0m\u001b[0;34m(\u001b[0m\u001b[0mobj\u001b[0m\u001b[0;34m,\u001b[0m \u001b[0mallow_tensor\u001b[0m\u001b[0;34m,\u001b[0m \u001b[0mallow_operation\u001b[0m\u001b[0;34m)\u001b[0m\u001b[0;34m\u001b[0m\u001b[0m\n\u001b[0m\u001b[1;32m   3491\u001b[0m \u001b[0;34m\u001b[0m\u001b[0m\n",
      "\u001b[0;32m/usr/local/lib/python3.5/dist-packages/tensorflow/python/framework/ops.py\u001b[0m in \u001b[0;36m_as_graph_element_locked\u001b[0;34m(self, obj, allow_tensor, allow_operation)\u001b[0m\n\u001b[1;32m   3568\u001b[0m       \u001b[0;32mif\u001b[0m \u001b[0mobj\u001b[0m\u001b[0;34m.\u001b[0m\u001b[0mgraph\u001b[0m \u001b[0;32mis\u001b[0m \u001b[0;32mnot\u001b[0m \u001b[0mself\u001b[0m\u001b[0;34m:\u001b[0m\u001b[0;34m\u001b[0m\u001b[0m\n\u001b[0;32m-> 3569\u001b[0;31m         \u001b[0;32mraise\u001b[0m \u001b[0mValueError\u001b[0m\u001b[0;34m(\u001b[0m\u001b[0;34m\"Tensor %s is not an element of this graph.\"\u001b[0m \u001b[0;34m%\u001b[0m \u001b[0mobj\u001b[0m\u001b[0;34m)\u001b[0m\u001b[0;34m\u001b[0m\u001b[0m\n\u001b[0m\u001b[1;32m   3570\u001b[0m       \u001b[0;32mreturn\u001b[0m \u001b[0mobj\u001b[0m\u001b[0;34m\u001b[0m\u001b[0m\n",
      "\u001b[0;31mValueError\u001b[0m: Tensor Tensor(\"Placeholder_1:0\", dtype=int32) is not an element of this graph.",
      "\nDuring handling of the above exception, another exception occurred:\n",
      "\u001b[0;31mTypeError\u001b[0m                                 Traceback (most recent call last)",
      "\u001b[0;32m<ipython-input-31-062faa49a5b3>\u001b[0m in \u001b[0;36m<module>\u001b[0;34m()\u001b[0m\n\u001b[1;32m     36\u001b[0m     \u001b[0msaver\u001b[0m\u001b[0;34m.\u001b[0m\u001b[0mrestore\u001b[0m\u001b[0;34m(\u001b[0m\u001b[0msess\u001b[0m\u001b[0;34m,\u001b[0m \u001b[0mtf\u001b[0m\u001b[0;34m.\u001b[0m\u001b[0mtrain\u001b[0m\u001b[0;34m.\u001b[0m\u001b[0mlatest_checkpoint\u001b[0m\u001b[0;34m(\u001b[0m\u001b[0;34m'./savemodel/'\u001b[0m\u001b[0;34m)\u001b[0m\u001b[0;34m)\u001b[0m\u001b[0;34m\u001b[0m\u001b[0m\n\u001b[1;32m     37\u001b[0m \u001b[0;34m\u001b[0m\u001b[0m\n\u001b[0;32m---> 38\u001b[0;31m     \u001b[0mtest_accuracy\u001b[0m \u001b[0;34m=\u001b[0m \u001b[0mevaluate\u001b[0m\u001b[0;34m(\u001b[0m\u001b[0mdeal_testx\u001b[0m\u001b[0;34m,\u001b[0m \u001b[0my_test\u001b[0m\u001b[0;34m)\u001b[0m\u001b[0;34m\u001b[0m\u001b[0m\n\u001b[0m\u001b[1;32m     39\u001b[0m     \u001b[0mprint\u001b[0m\u001b[0;34m(\u001b[0m\u001b[0;34m\"Test Accuracy = {:.3f}\"\u001b[0m\u001b[0;34m.\u001b[0m\u001b[0mformat\u001b[0m\u001b[0;34m(\u001b[0m\u001b[0mtest_accuracy\u001b[0m\u001b[0;34m)\u001b[0m\u001b[0;34m)\u001b[0m\u001b[0;34m\u001b[0m\u001b[0m\n",
      "\u001b[0;32m<ipython-input-20-af23fac5d74d>\u001b[0m in \u001b[0;36mevaluate\u001b[0;34m(X_data, y_data)\u001b[0m\n\u001b[1;32m      9\u001b[0m     \u001b[0;32mfor\u001b[0m \u001b[0moffset\u001b[0m \u001b[0;32min\u001b[0m \u001b[0mrange\u001b[0m\u001b[0;34m(\u001b[0m\u001b[0;36m0\u001b[0m\u001b[0;34m,\u001b[0m\u001b[0mnum_examples\u001b[0m\u001b[0;34m,\u001b[0m\u001b[0mbatch_size\u001b[0m\u001b[0;34m)\u001b[0m\u001b[0;34m:\u001b[0m\u001b[0;34m\u001b[0m\u001b[0m\n\u001b[1;32m     10\u001b[0m         \u001b[0mbatch_x\u001b[0m\u001b[0;34m,\u001b[0m\u001b[0mbatch_y\u001b[0m \u001b[0;34m=\u001b[0m \u001b[0mX_data\u001b[0m\u001b[0;34m[\u001b[0m\u001b[0moffset\u001b[0m\u001b[0;34m:\u001b[0m\u001b[0moffset\u001b[0m\u001b[0;34m+\u001b[0m\u001b[0mbatch_size\u001b[0m\u001b[0;34m]\u001b[0m\u001b[0;34m,\u001b[0m \u001b[0my_data\u001b[0m\u001b[0;34m[\u001b[0m\u001b[0moffset\u001b[0m\u001b[0;34m:\u001b[0m\u001b[0moffset\u001b[0m\u001b[0;34m+\u001b[0m\u001b[0mbatch_size\u001b[0m\u001b[0;34m]\u001b[0m\u001b[0;34m\u001b[0m\u001b[0m\n\u001b[0;32m---> 11\u001b[0;31m         \u001b[0maccuracy\u001b[0m \u001b[0;34m=\u001b[0m \u001b[0msess\u001b[0m\u001b[0;34m.\u001b[0m\u001b[0mrun\u001b[0m\u001b[0;34m(\u001b[0m\u001b[0maccuracy_operation\u001b[0m\u001b[0;34m,\u001b[0m\u001b[0mfeed_dict\u001b[0m\u001b[0;34m=\u001b[0m\u001b[0;34m{\u001b[0m\u001b[0mx\u001b[0m\u001b[0;34m:\u001b[0m\u001b[0mbatch_x\u001b[0m\u001b[0;34m,\u001b[0m \u001b[0my\u001b[0m\u001b[0;34m:\u001b[0m\u001b[0mbatch_y\u001b[0m\u001b[0;34m,\u001b[0m \u001b[0mkeep_prob\u001b[0m\u001b[0;34m:\u001b[0m\u001b[0;36m1\u001b[0m\u001b[0;34m}\u001b[0m\u001b[0;34m)\u001b[0m\u001b[0;34m\u001b[0m\u001b[0m\n\u001b[0m\u001b[1;32m     12\u001b[0m         \u001b[0mtotal_accuracy\u001b[0m \u001b[0;34m+=\u001b[0m \u001b[0;34m(\u001b[0m\u001b[0maccuracy\u001b[0m\u001b[0;34m*\u001b[0m\u001b[0mlen\u001b[0m\u001b[0;34m(\u001b[0m\u001b[0mbatch_x\u001b[0m\u001b[0;34m)\u001b[0m\u001b[0;34m)\u001b[0m\u001b[0;34m\u001b[0m\u001b[0m\n\u001b[1;32m     13\u001b[0m     \u001b[0;32mreturn\u001b[0m \u001b[0mtotal_accuracy\u001b[0m\u001b[0;34m/\u001b[0m\u001b[0mnum_examples\u001b[0m\u001b[0;34m\u001b[0m\u001b[0m\n",
      "\u001b[0;32m/usr/local/lib/python3.5/dist-packages/tensorflow/python/client/session.py\u001b[0m in \u001b[0;36mrun\u001b[0;34m(self, fetches, feed_dict, options, run_metadata)\u001b[0m\n\u001b[1;32m    927\u001b[0m     \u001b[0;32mtry\u001b[0m\u001b[0;34m:\u001b[0m\u001b[0;34m\u001b[0m\u001b[0m\n\u001b[1;32m    928\u001b[0m       result = self._run(None, fetches, feed_dict, options_ptr,\n\u001b[0;32m--> 929\u001b[0;31m                          run_metadata_ptr)\n\u001b[0m\u001b[1;32m    930\u001b[0m       \u001b[0;32mif\u001b[0m \u001b[0mrun_metadata\u001b[0m\u001b[0;34m:\u001b[0m\u001b[0;34m\u001b[0m\u001b[0m\n\u001b[1;32m    931\u001b[0m         \u001b[0mproto_data\u001b[0m \u001b[0;34m=\u001b[0m \u001b[0mtf_session\u001b[0m\u001b[0;34m.\u001b[0m\u001b[0mTF_GetBuffer\u001b[0m\u001b[0;34m(\u001b[0m\u001b[0mrun_metadata_ptr\u001b[0m\u001b[0;34m)\u001b[0m\u001b[0;34m\u001b[0m\u001b[0m\n",
      "\u001b[0;32m/usr/local/lib/python3.5/dist-packages/tensorflow/python/client/session.py\u001b[0m in \u001b[0;36m_run\u001b[0;34m(self, handle, fetches, feed_dict, options, run_metadata)\u001b[0m\n\u001b[1;32m   1093\u001b[0m           \u001b[0;32mexcept\u001b[0m \u001b[0mException\u001b[0m \u001b[0;32mas\u001b[0m \u001b[0me\u001b[0m\u001b[0;34m:\u001b[0m\u001b[0;34m\u001b[0m\u001b[0m\n\u001b[1;32m   1094\u001b[0m             raise TypeError(\n\u001b[0;32m-> 1095\u001b[0;31m                 'Cannot interpret feed_dict key as Tensor: ' + e.args[0])\n\u001b[0m\u001b[1;32m   1096\u001b[0m \u001b[0;34m\u001b[0m\u001b[0m\n\u001b[1;32m   1097\u001b[0m           \u001b[0;32mif\u001b[0m \u001b[0misinstance\u001b[0m\u001b[0;34m(\u001b[0m\u001b[0msubfeed_val\u001b[0m\u001b[0;34m,\u001b[0m \u001b[0mops\u001b[0m\u001b[0;34m.\u001b[0m\u001b[0mTensor\u001b[0m\u001b[0;34m)\u001b[0m\u001b[0;34m:\u001b[0m\u001b[0;34m\u001b[0m\u001b[0m\n",
      "\u001b[0;31mTypeError\u001b[0m: Cannot interpret feed_dict key as Tensor: Tensor Tensor(\"Placeholder_1:0\", dtype=int32) is not an element of this graph."
     ]
    },
    {
     "data": {
      "image/png": "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\n",
      "text/plain": [
       "<Figure size 432x288 with 1 Axes>"
      ]
     },
     "metadata": {},
     "output_type": "display_data"
    }
   ],
   "source": [
    "#run in test dataset\n",
    "with open(testing_file, mode='rb') as f:\n",
    "    test = pickle.load(f)\n",
    "X_test, y_test = test['features'], test['labels']\n",
    "print(\"test size\",len(X_test))\n",
    "\n",
    "x = tf.placeholder(tf.float32,[None,32,32,3])\n",
    "index = random.randint(0,len(X_test))\n",
    "image = X_test[index]\n",
    "label = transfer[str(y_test[index])]\n",
    "plt.imshow(image)\n",
    "plt.title(label)\n",
    "        \n",
    "plt.tight_layout()\n",
    "\n",
    "\n",
    "deal_testx = normal_imgs(X_test)\n",
    "print(len(deal_testx))\n",
    "print(deal_testx[0].shape)\n",
    "pre_logits = []\n",
    "\n",
    "\n",
    "# with tf.Session() as sess:\n",
    "#     saver.restore(sess, tf.train.latest_checkpoint('./savemodel/'))\n",
    "#     for offset in range(0,len(deal_testx),batch_size):\n",
    "#         batch_x = deal_testx[offset:offset+batch_size]\n",
    "#         logits_batch = sess.run(logits,feed_dict={x:batch_x})\n",
    "#         pre_logits.append(logits_batch)\n",
    "        \n",
    "\n",
    "# print(len(deal_testx))\n",
    "# print(len(pre_logits))\n",
    "\n",
    "\n",
    "with tf.Session() as sess:\n",
    "    saver.restore(sess, tf.train.latest_checkpoint('./savemodel/'))\n",
    "    \n",
    "    test_accuracy = evaluate(deal_testx, y_test)\n",
    "    print(\"Test Accuracy = {:.3f}\".format(test_accuracy))"
   ]
  },
  {
   "cell_type": "code",
   "execution_count": null,
   "metadata": {
    "collapsed": true
   },
   "outputs": [],
   "source": []
  }
 ],
 "metadata": {
  "anaconda-cloud": {},
  "kernelspec": {
   "display_name": "Python 3",
   "language": "python",
   "name": "python3"
  },
  "language_info": {
   "codemirror_mode": {
    "name": "ipython",
    "version": 3
   },
   "file_extension": ".py",
   "mimetype": "text/x-python",
   "name": "python",
   "nbconvert_exporter": "python",
   "pygments_lexer": "ipython3",
<<<<<<< HEAD
   "version": "3.6.9"
=======
   "version": "3.5.2"
>>>>>>> a07eedcba4acec04768a4a66a2850059b826bd60
  }
 },
 "nbformat": 4,
 "nbformat_minor": 1
}
